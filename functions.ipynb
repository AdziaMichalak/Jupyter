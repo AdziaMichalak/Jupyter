{
 "cells": [
  {
   "cell_type": "markdown",
   "id": "defa2117-c37f-446e-a106-72aaa437e55e",
   "metadata": {
    "tags": []
   },
   "source": [
    "# Czym są funkcję\n",
    "Funkcje są blokami kodu. Przyjmują od nas jakieś początkowe dane, przeprowadzają na nich operacje i zwracają wynik"
   ]
  },
  {
   "cell_type": "code",
   "execution_count": 4,
   "id": "0a1f77dd-d343-4717-971d-102b13e5e0cc",
   "metadata": {},
   "outputs": [],
   "source": [
    "def add():\n",
    "    print(2+2)"
   ]
  },
  {
   "cell_type": "markdown",
   "id": "fb780328-e367-471c-88ab-27dff5d7e8bb",
   "metadata": {},
   "source": [
    "Całość wywołalibyśmy komendą add() i dostalibyśmy wynik. Wszystko dobrze, ale co jeśli chcielibyśmy dodać inne liczby? Za każdym razem musielibyśmy modyfikować funkcję… I tutaj na scenę wchodzą argumenty, które podajemy w nawiasach."
   ]
  },
  {
   "cell_type": "code",
   "execution_count": 5,
   "id": "cbce14ba-2ea3-4ae1-91d8-a50a69dc17f6",
   "metadata": {},
   "outputs": [],
   "source": [
    "def add(a, b):\n",
    "    print(a + b)"
   ]
  },
  {
   "cell_type": "markdown",
   "id": "54b833fd-a32d-4b37-b777-8a0af4868fa3",
   "metadata": {},
   "source": [
    "Teraz możemy ją wywołać z podaniem argumentów, czyli liczb, które chcemy do siebie dodać, np. add(2, 2), ale także add(54, 64) oraz add(40504, 232320). W miejsce a i b zostaną podstawione odpowiednie argumenty. Nazwy tych ostatnich są oczywiście dowolne."
   ]
  },
  {
   "cell_type": "code",
   "execution_count": null,
   "id": "ddd4332b-7c79-49e7-b37a-2079c59ffcff",
   "metadata": {},
   "outputs": [],
   "source": []
  }
 ],
 "metadata": {
  "kernelspec": {
   "display_name": "Python 3 (ipykernel)",
   "language": "python",
   "name": "python3"
  },
  "language_info": {
   "codemirror_mode": {
    "name": "ipython",
    "version": 3
   },
   "file_extension": ".py",
   "mimetype": "text/x-python",
   "name": "python",
   "nbconvert_exporter": "python",
   "pygments_lexer": "ipython3",
   "version": "3.10.4"
  }
 },
 "nbformat": 4,
 "nbformat_minor": 5
}
